{
 "cells": [
  {
   "cell_type": "markdown",
   "id": "2c21267d-8023-4053-bf0d-a39f417ce027",
   "metadata": {},
   "source": [
    "# NBA DRAFT"
   ]
  },
  {
   "cell_type": "markdown",
   "id": "207ba1d9-8a5b-4ffd-9968-efc38cec96f9",
   "metadata": {},
   "source": [
    "Testing if Git server extension works"
   ]
  }
 ],
 "metadata": {
  "kernelspec": {
   "display_name": "Python 3 (ipykernel)",
   "language": "python",
   "name": "python3"
  },
  "language_info": {
   "codemirror_mode": {
    "name": "ipython",
    "version": 3
   },
   "file_extension": ".py",
   "mimetype": "text/x-python",
   "name": "python",
   "nbconvert_exporter": "python",
   "pygments_lexer": "ipython3",
   "version": "3.10.17"
  }
 },
 "nbformat": 4,
 "nbformat_minor": 5
}
