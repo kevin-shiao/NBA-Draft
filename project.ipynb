{
 "cells": [
  {
   "cell_type": "markdown",
   "id": "2c21267d-8023-4053-bf0d-a39f417ce027",
   "metadata": {},
   "source": [
    "# NBA DRAFT"
   ]
  },
  {
   "cell_type": "markdown",
   "id": "207ba1d9-8a5b-4ffd-9968-efc38cec96f9",
   "metadata": {},
   "source": [
    "Testing if Git server extension works"
   ]
  },
  {
   "cell_type": "markdown",
   "id": "e8ccf68c-4806-40de-8746-a0b52790e1cc",
   "metadata": {},
   "source": [
    "# Imports"
   ]
  },
  {
   "cell_type": "code",
   "execution_count": 1,
   "id": "51b4c4f4-a64e-4ba8-b13d-ea760dd510ab",
   "metadata": {},
   "outputs": [],
   "source": [
    "import pandas as pd"
   ]
  },
  {
   "cell_type": "code",
   "execution_count": null,
   "id": "477d9277-219a-4404-bbf5-353e658336f1",
   "metadata": {},
   "outputs": [],
   "source": [
    "df = pd.read_csv(\"/data/2024_NBA"
   ]
  },
  {
   "cell_type": "markdown",
   "id": "7219dae3-73b9-41da-b2b7-bc1bfb1d7abb",
   "metadata": {},
   "source": [
    "# References\n",
    "\n",
    "Basketball Reference\n",
    "\n",
    "Sports Reference\n",
    "\n",
    "NBADraft.net"
   ]
  }
 ],
 "metadata": {
  "kernelspec": {
   "display_name": "Python 3 (ipykernel)",
   "language": "python",
   "name": "python3"
  },
  "language_info": {
   "codemirror_mode": {
    "name": "ipython",
    "version": 3
   },
   "file_extension": ".py",
   "mimetype": "text/x-python",
   "name": "python",
   "nbconvert_exporter": "python",
   "pygments_lexer": "ipython3",
   "version": "3.10.17"
  }
 },
 "nbformat": 4,
 "nbformat_minor": 5
}
